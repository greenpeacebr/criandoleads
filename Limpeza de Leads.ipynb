{
  "nbformat": 4,
  "nbformat_minor": 0,
  "metadata": {
    "colab": {
      "name": "Limpeza de Leads.ipynb",
      "provenance": [],
      "toc_visible": true
    },
    "kernelspec": {
      "name": "python3",
      "display_name": "Python 3"
    }
  },
  "cells": [
    {
      "cell_type": "markdown",
      "metadata": {
        "id": "cy_1X6qG3pg3",
        "colab_type": "text"
      },
      "source": [
        "# Processo de Extração de Leads (SEMANAL!!!)\n",
        "\n",
        "Para facilitar o processo é necessário executar esse script com as bases extraidas do hubspot.\n",
        "\n",
        "Aqui você vai conseguir juntar todas as planilhas separando os dados por appeal e filtrar os telefones.\n",
        "\n",
        "Para iniciar é necessário executar a celula abaixo e selecionar os arquivos da extração e o template.\n"
      ]
    },
    {
      "cell_type": "code",
      "metadata": {
        "id": "pYMaXAza_izj",
        "colab_type": "code",
        "colab": {}
      },
      "source": [
        "# Importando arquivos de extração do HubSpot e template\n",
        "\n",
        "# Aqui você vai importar multiplos arquivos que ficarão disponiveis para visualização na aba files a esquerda ( <- )\n",
        "# Será necessário fazer o upload de todos os arquivos para que o script funcione\n",
        "\n",
        "# Você pode reexecutar essa célula várias vezes caso ocorra algum problema\n",
        "\n",
        "from google.colab import files\n",
        "\n",
        "uploaded = files.upload()\n",
        "\n",
        "# \\/ \\/ \\/ Selecione todos os arquivos na interação abaixo! \\/ \\/ \\/"
      ],
      "execution_count": 0,
      "outputs": []
    },
    {
      "cell_type": "code",
      "metadata": {
        "id": "pe2_Iy5l3rJz",
        "colab_type": "code",
        "colab": {}
      },
      "source": [
        "import pandas as pd\n",
        "import numpy as np\n",
        "import glob\n",
        "import re\n",
        "from openpyxl import load_workbook\n",
        "import warnings\n",
        "\n",
        "\n",
        "warnings.filterwarnings('ignore')\n",
        "# Importando módulos necessários"
      ],
      "execution_count": 0,
      "outputs": []
    },
    {
      "cell_type": "code",
      "metadata": {
        "id": "dYr4Keyf3rFB",
        "colab_type": "code",
        "colab": {}
      },
      "source": [
        "# Criando Data Frame principal, que irá abrigar todas as extrações.\n",
        "\n",
        "all_data = pd.DataFrame()"
      ],
      "execution_count": 0,
      "outputs": []
    },
    {
      "cell_type": "markdown",
      "metadata": {
        "id": "FsgeEjnN5El_",
        "colab_type": "text"
      },
      "source": [
        "# Tratamento das tabelas\n",
        "\n",
        "A partir daqui vamos juntar todos os arquivos da extração em uma unica tabela, que será filtrada pela REGEX, uma fórmula que identifica padrões de telefone que estão incorretos ou não existem."
      ]
    },
    {
      "cell_type": "code",
      "metadata": {
        "id": "hJb4dsrs9aE7",
        "colab_type": "code",
        "colab": {}
      },
      "source": [
        "# Busca todos os arquivos EXCEL no diretório local do colab.​\n",
        "\n",
        "for files in glob.glob('/content/hubspot*.xlsx'):\n",
        "   appealCampaign = re.search(\".*\", files) \n",
        "   df = pd.read_excel(files).assign(Appeal=appealCampaign.group())\n",
        "   all_data = all_data.append(df, ignore_index=True)#.copy()\n",
        "   all_data.head()\n",
        "\n",
        "\n",
        "# Essa célula concatena todos os arquivos de extração em um único DataFrame (tabela pandas) \n",
        "# e adiciona uma coluna com o nome do arquivo, para identificar qual a fonte do Lead"
      ],
      "execution_count": 0,
      "outputs": []
    },
    {
      "cell_type": "code",
      "metadata": {
        "id": "C33W9KOJ9bAd",
        "colab_type": "code",
        "colab": {}
      },
      "source": [
        "# Célula responsavel por organizar o writer que vai salvar o arquivo de acordo com as abas do template.\n",
        "\n",
        "book = load_workbook('/content/Template.xlsx')\n",
        "writer = pd.ExcelWriter('/content/Template.xlsx', engine='openpyxl')\n",
        "writer.book = book\n",
        "writer.sheets = dict((ws.title, ws) for ws in book.worksheets)"
      ],
      "execution_count": 0,
      "outputs": []
    },
    {
      "cell_type": "code",
      "metadata": {
        "id": "MF3dsBfECq_Q",
        "colab_type": "code",
        "colab": {}
      },
      "source": [
        "all_data.replace(to_replace ='''\n",
        "\"^(\\+55|55|055|\\s\\+55|\\s55|\\s055){0,1}?(\\s|-|\\.|\\+|\\_)?(0{0,1}\\s{0,1})?\n",
        "([1-9][0-9]|\\([1-9][0-9]\\))(\\s|-|\\.|\\+|\\_|\\(|\\)){0,2}?((?!9999)\\d{4,5})\n",
        "{0,1}?(\\s|-|\\.|\\+|\\_)?((?!0000)?\\d{4,5})$\"''', value=r\"\\4-\\6\\8\", regex=True, inplace=True)"
      ],
      "execution_count": 0,
      "outputs": []
    },
    {
      "cell_type": "code",
      "metadata": {
        "id": "Vv1TrXaZBy0M",
        "colab_type": "code",
        "colab": {}
      },
      "source": [
        "all_data.filter(regex=\"^(\\+55|55|055|\\s\\+55|\\s55|\\s055){0,1}?(\\s|-|\\.|\\+|\\_)?(0{0,1}\\s{0,1})?([1-9][0-9]|\\([1-9][0-9]\\))(\\s|-|\\.|\\+|\\_){0,2}?(\\d{4,5}){0,1}?(\\s|-|\\.|\\+|\\_)?((?!0000)?\\d{4,5})$\", axis=1)"
      ],
      "execution_count": 0,
      "outputs": []
    },
    {
      "cell_type": "code",
      "metadata": {
        "id": "3t_96ZfDBy7i",
        "colab_type": "code",
        "colab": {}
      },
      "source": [
        "all_data.insert(6, column='validacao de len', value = 'none')"
      ],
      "execution_count": 0,
      "outputs": []
    },
    {
      "cell_type": "code",
      "metadata": {
        "id": "V9yc6BJC-YMP",
        "colab_type": "code",
        "colab": {}
      },
      "source": [
        "# Loop adicional de filtros de DD e length dos telefones.\n",
        "\n",
        "for index in range(len(all_data)):\n",
        "   ad = all_data['Phone Mask'][index]\n",
        "   try:\n",
        "      if len(ad) == 12 and ad[3] != '9':\n",
        "         all_data['validacao de len'][index] = 'Não começa com 9'\n",
        "      elif ad[1] == '0':\n",
        "         all_data['validacao de len'][index] = 'DDD inválido'\n",
        "      elif ad[0] == '0':\n",
        "         all_data['validacao de len'][index] = 'DDD inválido'\n",
        "      elif len(ad) < 11:\n",
        "         all_data['validacao de len'][index] = 'Curto demais'\n",
        "      elif len(ad) > 12:\n",
        "         all_data['validacao de len'][index] = 'Longo demais'\n",
        "      elif len(ad) == 11 and (ad[3] == '6' or ad[3] == '7' or ad[3] == '8' or ad[3] == '9'):\n",
        "         all_data['validacao de len'][index] = 'Não tem o nono dígito'\n",
        "      elif len(ad) > 12:\n",
        "         all_data['validacao de len'][index] = 'Longo demais'\n",
        "      elif len(ad) == 'NaN':\n",
        "         all_data['validacao de len'][index] = 'Telefone não informado'\n",
        "            \n",
        "   except:\n",
        "      all_data['validacao de len'][index] = 'Não conseguiu identificar o número'"
      ],
      "execution_count": 0,
      "outputs": []
    },
    {
      "cell_type": "markdown",
      "metadata": {
        "id": "VVSEcJVW-ifc",
        "colab_type": "text"
      },
      "source": [
        "# Finalização\n",
        "\n",
        "Execute a ultima célula abaixo para concluir o processo, o arquivo será salvo na pasta ao lado (<-) do seu diretório do Colab.\n",
        "\n",
        "Lembrando que é importante conferir os processos de execução e se certificar que os filtros estão funcionando de forma adequada.\n",
        "\n",
        "\n",
        "Qualquer dúvida contate a chatuba através do e-mail:\n",
        "renato.fagaraz@greenpeace.org"
      ]
    },
    {
      "cell_type": "code",
      "metadata": {
        "id": "opexbt3Z3cXT",
        "colab_type": "code",
        "colab": {}
      },
      "source": [
        "all_data.to_excel(writer, sheet_name='Base Original')\n",
        "writer.save()"
      ],
      "execution_count": 0,
      "outputs": []
    }
  ]
}